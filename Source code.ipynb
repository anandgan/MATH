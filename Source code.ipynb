{
 "cells": [
  {
   "cell_type": "code",
   "execution_count": 21,
   "metadata": {},
   "outputs": [],
   "source": [
    "from sklearn.linear_model import LinearRegression\n",
    "from sklearn.feature_selection import RFE\n",
    "from sklearn.model_selection import train_test_split\n",
    "from sklearn.datasets import load_diabetes\n",
    "import pandas as pd\n",
    "from sklearn.metrics import r2_score\n",
    "\n",
    "\n"
   ]
  },
  {
   "cell_type": "code",
   "execution_count": 12,
   "metadata": {},
   "outputs": [
    {
     "name": "stdout",
     "output_type": "stream",
     "text": [
      "<class 'pandas.core.frame.DataFrame'>\n",
      "RangeIndex: 442 entries, 0 to 441\n",
      "Data columns (total 11 columns):\n",
      " #   Column  Non-Null Count  Dtype  \n",
      "---  ------  --------------  -----  \n",
      " 0   age     442 non-null    float64\n",
      " 1   sex     442 non-null    float64\n",
      " 2   bmi     442 non-null    float64\n",
      " 3   bp      442 non-null    float64\n",
      " 4   s1      442 non-null    float64\n",
      " 5   s2      442 non-null    float64\n",
      " 6   s3      442 non-null    float64\n",
      " 7   s4      442 non-null    float64\n",
      " 8   s5      442 non-null    float64\n",
      " 9   s6      442 non-null    float64\n",
      " 10  target  442 non-null    float64\n",
      "dtypes: float64(11)\n",
      "memory usage: 38.1 KB\n",
      "None \n",
      "Missing Values:\n",
      " age       0\n",
      "sex       0\n",
      "bmi       0\n",
      "bp        0\n",
      "s1        0\n",
      "s2        0\n",
      "s3        0\n",
      "s4        0\n",
      "s5        0\n",
      "s6        0\n",
      "target    0\n",
      "dtype: int64 \n",
      "Summary Stats:\n",
      "                 age           sex           bmi            bp            s1  \\\n",
      "count  4.420000e+02  4.420000e+02  4.420000e+02  4.420000e+02  4.420000e+02   \n",
      "mean  -2.511817e-19  1.230790e-17 -2.245564e-16 -4.797570e-17 -1.381499e-17   \n",
      "std    4.761905e-02  4.761905e-02  4.761905e-02  4.761905e-02  4.761905e-02   \n",
      "min   -1.072256e-01 -4.464164e-02 -9.027530e-02 -1.123988e-01 -1.267807e-01   \n",
      "25%   -3.729927e-02 -4.464164e-02 -3.422907e-02 -3.665608e-02 -3.424784e-02   \n",
      "50%    5.383060e-03 -4.464164e-02 -7.283766e-03 -5.670422e-03 -4.320866e-03   \n",
      "75%    3.807591e-02  5.068012e-02  3.124802e-02  3.564379e-02  2.835801e-02   \n",
      "max    1.107267e-01  5.068012e-02  1.705552e-01  1.320436e-01  1.539137e-01   \n",
      "\n",
      "                 s2            s3            s4            s5            s6  \\\n",
      "count  4.420000e+02  4.420000e+02  4.420000e+02  4.420000e+02  4.420000e+02   \n",
      "mean   3.918434e-17 -5.777179e-18 -9.042540e-18  9.293722e-17  1.130318e-17   \n",
      "std    4.761905e-02  4.761905e-02  4.761905e-02  4.761905e-02  4.761905e-02   \n",
      "min   -1.156131e-01 -1.023071e-01 -7.639450e-02 -1.260971e-01 -1.377672e-01   \n",
      "25%   -3.035840e-02 -3.511716e-02 -3.949338e-02 -3.324559e-02 -3.317903e-02   \n",
      "50%   -3.819065e-03 -6.584468e-03 -2.592262e-03 -1.947171e-03 -1.077698e-03   \n",
      "75%    2.984439e-02  2.931150e-02  3.430886e-02  3.243232e-02  2.791705e-02   \n",
      "max    1.987880e-01  1.811791e-01  1.852344e-01  1.335973e-01  1.356118e-01   \n",
      "\n",
      "           target  \n",
      "count  442.000000  \n",
      "mean   152.133484  \n",
      "std     77.093005  \n",
      "min     25.000000  \n",
      "25%     87.000000  \n",
      "50%    140.500000  \n",
      "75%    211.500000  \n",
      "max    346.000000  \n",
      "Training set: (353, 10), Testing set: (89, 10)\n"
     ]
    }
   ],
   "source": [
    "\n",
    "diabetes = load_diabetes()\n",
    "df = pd.DataFrame(diabetes.data, columns=diabetes.feature_names)\n",
    "df['target'] = diabetes.target \n",
    "print(df.info(), \"\\nMissing Values:\\n\", df.isnull().sum(), \"\\nSummary Stats:\\n\", df.describe())\n",
    "X_train, X_test, y_train, y_test = train_test_split(df.drop(columns=['target']), df['target'], test_size=0.2, random_state=42)\n",
    "\n",
    "print(f\"Training set: {X_train.shape}, Testing set: {X_test.shape}\")\n"
   ]
  },
  {
   "cell_type": "code",
   "execution_count": 3,
   "metadata": {},
   "outputs": [
    {
     "name": "stdout",
     "output_type": "stream",
     "text": [
      "                age           sex           bmi            bp            s1  \\\n",
      "count  4.420000e+02  4.420000e+02  4.420000e+02  4.420000e+02  4.420000e+02   \n",
      "mean  -2.511817e-19  1.230790e-17 -2.245564e-16 -4.797570e-17 -1.381499e-17   \n",
      "std    4.761905e-02  4.761905e-02  4.761905e-02  4.761905e-02  4.761905e-02   \n",
      "min   -1.072256e-01 -4.464164e-02 -9.027530e-02 -1.123988e-01 -1.267807e-01   \n",
      "25%   -3.729927e-02 -4.464164e-02 -3.422907e-02 -3.665608e-02 -3.424784e-02   \n",
      "50%    5.383060e-03 -4.464164e-02 -7.283766e-03 -5.670422e-03 -4.320866e-03   \n",
      "75%    3.807591e-02  5.068012e-02  3.124802e-02  3.564379e-02  2.835801e-02   \n",
      "max    1.107267e-01  5.068012e-02  1.705552e-01  1.320436e-01  1.539137e-01   \n",
      "\n",
      "                 s2            s3            s4            s5            s6  \\\n",
      "count  4.420000e+02  4.420000e+02  4.420000e+02  4.420000e+02  4.420000e+02   \n",
      "mean   3.918434e-17 -5.777179e-18 -9.042540e-18  9.293722e-17  1.130318e-17   \n",
      "std    4.761905e-02  4.761905e-02  4.761905e-02  4.761905e-02  4.761905e-02   \n",
      "min   -1.156131e-01 -1.023071e-01 -7.639450e-02 -1.260971e-01 -1.377672e-01   \n",
      "25%   -3.035840e-02 -3.511716e-02 -3.949338e-02 -3.324559e-02 -3.317903e-02   \n",
      "50%   -3.819065e-03 -6.584468e-03 -2.592262e-03 -1.947171e-03 -1.077698e-03   \n",
      "75%    2.984439e-02  2.931150e-02  3.430886e-02  3.243232e-02  2.791705e-02   \n",
      "max    1.987880e-01  1.811791e-01  1.852344e-01  1.335973e-01  1.356118e-01   \n",
      "\n",
      "           target  \n",
      "count  442.000000  \n",
      "mean   152.133484  \n",
      "std     77.093005  \n",
      "min     25.000000  \n",
      "25%     87.000000  \n",
      "50%    140.500000  \n",
      "75%    211.500000  \n",
      "max    346.000000  \n"
     ]
    }
   ],
   "source": [
    "print(df.describe())"
   ]
  },
  {
   "cell_type": "markdown",
   "metadata": {},
   "source": [
    "TASK 2 "
   ]
  },
  {
   "cell_type": "code",
   "execution_count": 13,
   "metadata": {},
   "outputs": [
    {
     "name": "stdout",
     "output_type": "stream",
     "text": [
      "Model Coefficients: [  37.90402135 -241.96436231  542.42875852  347.70384391 -931.48884588\n",
      "  518.06227698  163.41998299  275.31790158  736.1988589    48.67065743]\n",
      "Model Intercept: 151.34560453985995\n"
     ]
    }
   ],
   "source": [
    "\n",
    "model = LinearRegression()\n",
    "model.fit(X_train, y_train)\n",
    "print(\"Model Coefficients:\", model.coef_)\n",
    "print(\"Model Intercept:\", model.intercept_)\n"
   ]
  },
  {
   "cell_type": "code",
   "execution_count": 15,
   "metadata": {},
   "outputs": [
    {
     "name": "stdout",
     "output_type": "stream",
     "text": [
      "R² Score on Test Set: 0.4526\n"
     ]
    }
   ],
   "source": [
    "\n",
    "y_pred = model.predict(X_test)\n",
    "r2 = r2_score(y_test, y_pred)\n",
    "\n",
    "print(f\"R² Score on Test Set: {r2:.4f}\")\n"
   ]
  },
  {
   "cell_type": "markdown",
   "metadata": {},
   "source": [
    "task 3"
   ]
  },
  {
   "cell_type": "code",
   "execution_count": 16,
   "metadata": {},
   "outputs": [
    {
     "name": "stdout",
     "output_type": "stream",
     "text": [
      "  Feature  Ranking\n",
      "2     bmi        1\n",
      "8      s5        2\n",
      "4      s1        3\n",
      "5      s2        4\n",
      "3      bp        5\n",
      "1     sex        6\n",
      "7      s4        7\n",
      "6      s3        8\n",
      "9      s6        9\n",
      "0     age       10\n"
     ]
    }
   ],
   "source": [
    "\n",
    "\n",
    "rfe = RFE(estimator=model, n_features_to_select=1)  \n",
    "rfe.fit(X_train, y_train)\n",
    "rfe_ranking = pd.DataFrame({\n",
    "    'Feature': X_train.columns,\n",
    "    'Ranking': rfe.ranking_\n",
    "}).sort_values(by='Ranking')\n",
    "\n",
    "print(rfe_ranking)\n"
   ]
  },
  {
   "cell_type": "code",
   "execution_count": 17,
   "metadata": {},
   "outputs": [
    {
     "name": "stdout",
     "output_type": "stream",
     "text": [
      "   Num Features                            Selected Features\n",
      "0            10  [age, sex, bmi, bp, s1, s2, s3, s4, s5, s6]\n",
      "1             9       [sex, bmi, bp, s1, s2, s3, s4, s5, s6]\n",
      "2             8           [sex, bmi, bp, s1, s2, s3, s4, s5]\n",
      "3             7               [sex, bmi, bp, s1, s2, s4, s5]\n",
      "4             6                   [sex, bmi, bp, s1, s2, s5]\n",
      "5             5                        [bmi, bp, s1, s2, s5]\n",
      "6             4                            [bmi, s1, s2, s5]\n",
      "7             3                                [bmi, s1, s5]\n",
      "8             2                                    [bmi, s5]\n",
      "9             1                                        [bmi]\n"
     ]
    }
   ],
   "source": [
    "#3.2\n",
    "feature_elimination_order = []\n",
    "for n_features in range(X_train.shape[1], 0, -1):\n",
    "    rfe = RFE(estimator=model, n_features_to_select=n_features)\n",
    "    rfe.fit(X_train, y_train)\n",
    "    selected_features = X_train.columns[rfe.support_].tolist()\n",
    "    feature_elimination_order.append((n_features, selected_features))\n",
    "elimination_df = pd.DataFrame(feature_elimination_order, columns=['Num Features', 'Selected Features'])\n",
    "\n",
    "print(elimination_df)\n",
    "\n"
   ]
  },
  {
   "cell_type": "code",
   "execution_count": null,
   "metadata": {},
   "outputs": [
    {
     "name": "stdout",
     "output_type": "stream",
     "text": [
      "   Num Features  R² Score\n",
      "0            10  0.452603\n",
      "1             9  0.458659\n",
      "2             8  0.455901\n",
      "3             7  0.458255\n",
      "4             6  0.462777\n",
      "5             5  0.438201\n",
      "6             4  0.446404\n",
      "7             3  0.445095\n",
      "8             2  0.452293\n",
      "9             1  0.233350\n"
     ]
    }
   ],
   "source": [
    "\n",
    "\n",
    "r2_scores = []\n",
    "for n_features in range(X_train.shape[1], 0, -1):\n",
    "    rfe = RFE(estimator=model, n_features_to_select=n_features)\n",
    "    rfe.fit(X_train, y_train)\n",
    "    y_pred = rfe.predict(X_test)\n",
    "    r2 = r2_score(y_test, y_pred)\n",
    "    r2_scores.append((n_features, r2))\n",
    "r2_scores_df = pd.DataFrame(r2_scores, columns=['Num Features', 'R² Score'])\n",
    "\n",
    "print(r2_scores_df)\n"
   ]
  },
  {
   "cell_type": "code",
   "execution_count": 24,
   "metadata": {},
   "outputs": [
    {
     "data": {
      "image/png": "[encoded data removed]",
      "text/plain": [
       "<Figure size 800x500 with 1 Axes>"
      ]
     },
     "metadata": {},
     "output_type": "display_data"
    }
   ],
   "source": [
    "import matplotlib.pyplot as plt\n",
    "\n",
    "\n",
    "num_features_list = r2_scores_df['Num Features']\n",
    "r2_values = r2_scores_df['R² Score']\n",
    "\n",
    "plt.figure(figsize=(8, 5))\n",
    "plt.plot(num_features_list, r2_values, marker='o', linestyle='-')\n",
    "plt.xlabel(\"Number of Features Retained\")\n",
    "plt.ylabel(\"R² Score\")\n",
    "plt.title(\"R² Score vs. Number of Retained Features\")\n",
    "plt.grid()\n",
    "plt.show()\n"
   ]
  },
  {
   "cell_type": "code",
   "execution_count": 25,
   "metadata": {},
   "outputs": [
    {
     "name": "stdout",
     "output_type": "stream",
     "text": [
      "Optimal number of features: 10.0\n",
      "Selected Features: ['age', 'sex', 'bmi', 'bp', 's1', 's2', 's3', 's4', 's5', 's6']\n"
     ]
    }
   ],
   "source": [
    "\n",
    "r2_diffs = np.diff(r2_scores_df['R² Score'])\n",
    "\n",
    "optimal_features_index = np.where(r2_diffs < 0.01)[0][0] if np.any(r2_diffs < 0.01) else len(r2_scores_df) - 1\n",
    "optimal_num_features = r2_scores_df.iloc[optimal_features_index]['Num Features']\n",
    "\n",
    "optimal_features = elimination_df.iloc[optimal_features_index]['Selected Features']\n",
    "\n",
    "print(f\"Optimal number of features: {optimal_num_features}\")\n",
    "print(f\"Selected Features: {optimal_features}\")\n"
   ]
  },
  {
   "cell_type": "markdown",
   "metadata": {},
   "source": [
    "task 4"
   ]
  },
  {
   "cell_type": "code",
   "execution_count": null,
   "metadata": {},
   "outputs": [
    {
     "name": "stdout",
     "output_type": "stream",
     "text": [
      "Feature Coefficients at Each RFE Iteration:\n",
      "     10_features  9_features  8_features  7_features  6_features  5_features  4_features  3_features  2_features  1_features\n",
      "age    37.904021    0.000000    0.000000    0.000000    0.000000    0.000000    0.000000    0.000000    0.000000    0.000000\n",
      "sex  -241.964362 -236.649588 -233.754686 -235.364224 -215.267423    0.000000    0.000000    0.000000    0.000000    0.000000\n",
      "bmi   542.428759  542.799508  550.744365  551.866448  557.314167  597.892739  691.460102  737.685594  732.109021  998.577689\n",
      "bp    347.703844  354.211438  363.791753  362.356114  350.178667  306.647913    0.000000    0.000000    0.000000    0.000000\n",
      "s1   -931.488846 -936.350589 -947.823133 -660.643160 -851.515734 -655.560612 -592.977874 -228.339889    0.000000    0.000000\n",
      "s2    518.062277  528.796592  541.585796  343.348089  591.093315  409.622184  362.950323    0.000000    0.000000    0.000000\n",
      "s3    163.419983  167.800414  172.250588    0.000000    0.000000    0.000000    0.000000    0.000000    0.000000    0.000000\n",
      "s4    275.317902  270.396514  277.741072  185.140764    0.000000    0.000000    0.000000    0.000000    0.000000    0.000000\n",
      "s5    736.198859  744.447429  761.921177  664.774591  803.121285  728.643647  783.168538  680.224653  562.226535    0.000000\n",
      "s6     48.670657   53.350483    0.000000    0.000000    0.000000    0.000000    0.000000    0.000000    0.000000    0.000000\n",
      "\n",
      "Feature Coefficients table saved as 'feature_coefficients_rfe.csv'\n"
     ]
    }
   ],
   "source": [
    "\n",
    "coefficients_table = pd.DataFrame(index=X_train.columns)\n",
    "\n",
    "for n_features in range(X_train.shape[1], 0, -1):\n",
    "    rfe = RFE(estimator=model, n_features_to_select=n_features)\n",
    "    rfe.fit(X_train, y_train)\n",
    "    \n",
    "   \n",
    "    coeffs = pd.Series(rfe.estimator_.coef_, index=X_train.columns[rfe.support_])\n",
    "    coefficients_table[f\"{n_features}_features\"] = coeffs\n",
    "\n",
    "\n",
    "coefficients_table = coefficients_table.fillna(0)\n",
    "\n",
    "\n",
    "print(\"Feature Coefficients at Each RFE Iteration:\")\n",
    "print(coefficients_table.to_string())\n",
    "\n",
    "coefficients_table.to_csv(\"feature_coefficients_rfe.csv\", index=True)\n",
    "print(\"\\nFeature Coefficients table saved as 'feature_coefficients_rfe.csv'\")\n",
    "\n"
   ]
  },
  {
   "cell_type": "code",
   "execution_count": 34,
   "metadata": {},
   "outputs": [
    {
     "name": "stdout",
     "output_type": "stream",
     "text": [
      "\n",
      "Top 3 Most Important Features (Using All 10 Features):\n",
      "s1    -931.488846\n",
      "s5     736.198859\n",
      "bmi    542.428759\n",
      "Name: 10_features, dtype: float64\n",
      "\n",
      "Feature: s1, Coefficient: -931.489\n",
      "Interpretation: A 1-unit increase in s1 leads to a -931.489 change in diabetes progression, holding other factors constant.\n",
      "\n",
      "Feature: s5, Coefficient: 736.199\n",
      "Interpretation: A 1-unit increase in s5 leads to a 736.199 change in diabetes progression, holding other factors constant.\n",
      "\n",
      "Feature: bmi, Coefficient: 542.429\n",
      "Interpretation: A 1-unit increase in bmi leads to a 542.429 change in diabetes progression, holding other factors constant.\n"
     ]
    }
   ],
   "source": [
    "optimal_features_coeffs = coefficients_table[\"10_features\"].sort_values(key=abs, ascending=False)\n",
    "print(\"\\nTop 3 Most Important Features (Using All 10 Features):\")\n",
    "print(optimal_features_coeffs.head(3))\n",
    "for feature, coefficient in optimal_features_coeffs.head(3).items():\n",
    "    print(f\"\\nFeature: {feature}, Coefficient: {coefficient:.3f}\")\n",
    "    print(f\"Interpretation: A 1-unit increase in {feature} leads to a {coefficient:.3f} change in diabetes progression, holding other factors constant.\")\n"
   ]
  },
  {
   "cell_type": "code",
   "execution_count": 37,
   "metadata": {},
   "outputs": [
    {
     "name": "stdout",
     "output_type": "stream",
     "text": [
      "\n",
      "Comparison of Initial Feature Ranking vs Final Selected Features:\n",
      "  Initial Ranking Final Features\n",
      "0              s1             s1\n",
      "1              s5             s5\n",
      "2             bmi            bmi\n",
      "3              s2             s2\n",
      "4              bp             bp\n",
      "5              s4             s4\n",
      "6             sex            sex\n",
      "7              s3             s3\n",
      "8              s6             s6\n",
      "9             age            age\n"
     ]
    }
   ],
   "source": [
    "\n",
    "initial_ranking = pd.Series(model.coef_, index=X_train.columns).sort_values(key=abs, ascending=False)\n",
    "final_features = optimal_features_coeffs.index\n",
    "\n",
    "comparison_df = pd.DataFrame({\"Initial Ranking\": initial_ranking.index[:len(final_features)], \n",
    "                              \"Final Features\": final_features})\n",
    "print(\"\\nComparison of Initial Feature Ranking vs Final Selected Features:\")\n",
    "print(comparison_df.to_string())\n",
    "\n",
    "\n",
    "\n"
   ]
  },
  {
   "cell_type": "markdown",
   "metadata": {},
   "source": [
    "Task 5 "
   ]
  },
  {
   "cell_type": "markdown",
   "metadata": {},
   "source": [
    "What did you learn about feature selection using RFE?\n",
    "what i have learned is , it removes the least important features step by step . \n",
    "\n",
    "but as we have use 0.01 threshold for r2 , we have retained all 10 features but we dont use this , the important features generally are only 6 as we can see the the r2 is peaked when the model has only 6 features \n",
    "\n",
    "and the key point i understood in rfe is , its not always about deleting the features because as we saw if we further eliminate the features , we can see the performance loss and the same way it helped to identify what are important features like s1,s5 and bmi\n"
   ]
  },
  {
   "cell_type": "markdown",
   "metadata": {},
   "source": [
    "2. \n",
    "rfe retained all 10 features because each contributed enough to justify keeping them. but lasso might have foreced some features to zero , which effect the model perforance ,by reducing the features "
   ]
  },
  {
   "cell_type": "markdown",
   "metadata": {},
   "source": [
    "3. the strongest feature is bmi , s5 and s1 \n",
    "BP has oderate importance \n",
    "all 10 features are important enough to be kept as diabetes progression is influenced by multiple factors working together, not just one.\n"
   ]
  }
 ],
 "metadata": {
  "kernelspec": {
   "display_name": "Python 3",
   "language": "python",
   "name": "python3"
  },
  "language_info": {
   "codemirror_mode": {
    "name": "ipython",
    "version": 3
   },
   "file_extension": ".py",
   "mimetype": "text/x-python",
   "name": "python",
   "nbconvert_exporter": "python",
   "pygments_lexer": "ipython3",
   "version": "3.12.5"
  }
 },
 "nbformat": 4,
 "nbformat_minor": 2
}
